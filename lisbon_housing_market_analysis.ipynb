{
 "cells": [
  {
   "cell_type": "markdown",
   "metadata": {},
   "source": [
    "<div class=\"alert alert-block alert-success\">\n",
    "\n",
    "# 1. Import Data <a id='import'></a></div>"
   ]
  },
  {
   "cell_type": "markdown",
   "metadata": {},
   "source": [
    "<div class=\"alert alert-block alert-warning\">\n",
    "\n",
    "### 1.1 Import the Required Libraries <a id='libraries'></a></div>"
   ]
  },
  {
   "cell_type": "code",
   "execution_count": 222,
   "metadata": {},
   "outputs": [],
   "source": [
    "import pandas as pd\n",
    "import numpy as np\n",
    "from numpy import nan\n",
    "import re\n",
    "import matplotlib.pyplot as plt\n",
    "import matplotlib.gridspec as gridspec\n",
    "import seaborn as sns\n",
    "from scipy import stats\n",
    "\n",
    "from sklearn.linear_model import LinearRegression\n",
    "from sklearn.metrics import mean_squared_error\n",
    "from sklearn.model_selection import train_test_split\n",
    "from sklearn.impute import KNNImputer\n",
    "from sklearn.decomposition import PCA\n",
    "\n",
    "import geopandas as gpd\n",
    "import folium\n",
    "import osmnx as ox\n",
    "import networkx as nx\n",
    "import geopy.distance\n",
    "import warnings\n",
    "import statistics\n",
    "import statsmodels.api as sm\n",
    "import io\n",
    "from PIL import Image\n",
    "warnings.filterwarnings('ignore')"
   ]
  },
  {
   "cell_type": "markdown",
   "metadata": {},
   "source": [
    "<div class=\"alert alert-block alert-warning\">\n",
    "\n",
    "### 1.2 Import Data <a id='data'></a></div>"
   ]
  },
  {
   "cell_type": "code",
   "execution_count": 227,
   "metadata": {},
   "outputs": [],
   "source": [
    "# Webscrapped housing data\n",
    "houses = pd.read_csv(\"data/properties_data.csv\")\n",
    "\n",
    "# Geodata\n",
    "hospitals = gpd.read_file(\"data/Hospitals/Hospitals.shp\")\n",
    "metro_stations = gpd.read_file(\"data/MetroStations/MetroStations.shp\")\n",
    "train_stations = gpd.read_file(\"data/TrainStations/TrainStations.shp\")\n",
    "green_areas = gpd.read_file(\"data/GreenAreas/GreenAreas.shp\")\n",
    "universities = gpd.read_file(\"data/Universities/Universities.shp\")\n",
    "shopping_centers = gpd.read_file(\"data/ShoppingCenters/ShoppingCenters.shp\")\n",
    "lisbon_limits = gpd.read_file(\"data/LisbonLimits/LisbonLimits.shp\")\n",
    "lisbon_limits_parish = gpd.read_file(\"data/LisbonLimitsFreguesia/LisbonLimitsFreguesia.shp\")\n",
    "\n",
    "# National Statistics Intitute data - median price per parish of solds houses 2023\n",
    "\n",
    "house_prices_parish = pd.read_excel(\"data/price_per_parish_2023.xlsx\")"
   ]
  },
  {
   "cell_type": "markdown",
   "metadata": {},
   "source": [
    "<div class=\"alert alert-block alert-success\">\n",
    "\n",
    "# 2. Data Exploration and Preprocessing <a id='initial_explore'></a></div>"
   ]
  },
  {
   "cell_type": "markdown",
   "metadata": {},
   "source": [
    "<div class=\"alert alert-block alert-warning\">\n",
    "\n",
    "### 2.1 Clean each Feature Individually <a id='data'></a></div>"
   ]
  },
  {
   "cell_type": "code",
   "execution_count": 4,
   "metadata": {},
   "outputs": [
    {
     "data": {
      "text/html": [
       "<div>\n",
       "<style scoped>\n",
       "    .dataframe tbody tr th:only-of-type {\n",
       "        vertical-align: middle;\n",
       "    }\n",
       "\n",
       "    .dataframe tbody tr th {\n",
       "        vertical-align: top;\n",
       "    }\n",
       "\n",
       "    .dataframe thead th {\n",
       "        text-align: right;\n",
       "    }\n",
       "</style>\n",
       "<table border=\"1\" class=\"dataframe\">\n",
       "  <thead>\n",
       "    <tr style=\"text-align: right;\">\n",
       "      <th></th>\n",
       "      <th>id</th>\n",
       "      <th>property-header</th>\n",
       "      <th>property_description</th>\n",
       "      <th>typology</th>\n",
       "      <th>price</th>\n",
       "      <th>area</th>\n",
       "      <th>locality</th>\n",
       "      <th>region</th>\n",
       "      <th>latitude</th>\n",
       "      <th>longitude</th>\n",
       "    </tr>\n",
       "  </thead>\n",
       "  <tbody>\n",
       "    <tr>\n",
       "      <th>0</th>\n",
       "      <td>1000</td>\n",
       "      <td>NaN</td>\n",
       "      <td>Apartamento T4 convertido em T3, em bom estado...</td>\n",
       "      <td>Apartamento T3</td>\n",
       "      <td>489.500 €</td>\n",
       "      <td>115m²</td>\n",
       "      <td>Lisboa</td>\n",
       "      <td>Arroios</td>\n",
       "      <td>38.726588</td>\n",
       "      <td>-9.142284</td>\n",
       "    </tr>\n",
       "    <tr>\n",
       "      <th>1</th>\n",
       "      <td>1001</td>\n",
       "      <td>Apartamento T4 á venda em Arroios</td>\n",
       "      <td>Excelente Apartamento T4, na zona de Arroios, ...</td>\n",
       "      <td>Apartamento T4 Triplex</td>\n",
       "      <td>330.000 €</td>\n",
       "      <td>74m²</td>\n",
       "      <td>Lisboa</td>\n",
       "      <td>Arroios</td>\n",
       "      <td>38.721836</td>\n",
       "      <td>-9.138774</td>\n",
       "    </tr>\n",
       "    <tr>\n",
       "      <th>2</th>\n",
       "      <td>1002</td>\n",
       "      <td>NaN</td>\n",
       "      <td>Arrecadação dentro do Amoreiras Shopping Cente...</td>\n",
       "      <td>Armazém</td>\n",
       "      <td>39.000 € / 220 €</td>\n",
       "      <td>NaN</td>\n",
       "      <td>Lisboa</td>\n",
       "      <td>Campo de Ourique</td>\n",
       "      <td>0.000000</td>\n",
       "      <td>0.000000</td>\n",
       "    </tr>\n",
       "    <tr>\n",
       "      <th>3</th>\n",
       "      <td>1003</td>\n",
       "      <td>NaN</td>\n",
       "      <td>Apartamento de luxo situado em Telheiras, Parq...</td>\n",
       "      <td>Apartamento T4</td>\n",
       "      <td>865.000 €</td>\n",
       "      <td>NaN</td>\n",
       "      <td>Lisboa</td>\n",
       "      <td>Lumiar</td>\n",
       "      <td>0.000000</td>\n",
       "      <td>0.000000</td>\n",
       "    </tr>\n",
       "    <tr>\n",
       "      <th>4</th>\n",
       "      <td>1004</td>\n",
       "      <td>NaN</td>\n",
       "      <td>Apartamento T3 remodelado no Alto do Restelo (...</td>\n",
       "      <td>Apartamento T3</td>\n",
       "      <td>2.000 €</td>\n",
       "      <td>Recuperado</td>\n",
       "      <td>Lisboa</td>\n",
       "      <td>Belém</td>\n",
       "      <td>0.000000</td>\n",
       "      <td>0.000000</td>\n",
       "    </tr>\n",
       "    <tr>\n",
       "      <th>5</th>\n",
       "      <td>1005</td>\n",
       "      <td>NaN</td>\n",
       "      <td>Loja com 1.688,77 m2, em 3 pisos, com localiza...</td>\n",
       "      <td>Loja</td>\n",
       "      <td>2.980.000 €</td>\n",
       "      <td>1 688m²</td>\n",
       "      <td>Lisboa</td>\n",
       "      <td>Areeiro</td>\n",
       "      <td>38.743644</td>\n",
       "      <td>-9.143469</td>\n",
       "    </tr>\n",
       "    <tr>\n",
       "      <th>6</th>\n",
       "      <td>1006</td>\n",
       "      <td>NaN</td>\n",
       "      <td>Este bonito apartamento esta inserido numa rea...</td>\n",
       "      <td>Apartamento T1</td>\n",
       "      <td>430.000 €</td>\n",
       "      <td>81m²</td>\n",
       "      <td>Lisboa</td>\n",
       "      <td>Alcântara</td>\n",
       "      <td>38.706230</td>\n",
       "      <td>-9.177530</td>\n",
       "    </tr>\n",
       "    <tr>\n",
       "      <th>7</th>\n",
       "      <td>1007</td>\n",
       "      <td>APARTAMENTO T4 EXCELENTE COM VISTA RIO EM LISB...</td>\n",
       "      <td>PROCURA APARTAMENTO T4 NA CIDADE DE LISBOA?EST...</td>\n",
       "      <td>Apartamento T4</td>\n",
       "      <td>4.000 €</td>\n",
       "      <td>230m²</td>\n",
       "      <td>Lisboa</td>\n",
       "      <td>Campo de Ourique</td>\n",
       "      <td>38.723605</td>\n",
       "      <td>-9.158138</td>\n",
       "    </tr>\n",
       "    <tr>\n",
       "      <th>8</th>\n",
       "      <td>1008</td>\n",
       "      <td>APARTAMENTO T3 COM LOGRADOURO E ESTACIONAMENTO...</td>\n",
       "      <td>PROCURA UMA CASA PERTO DO RIO, DO CENTRO DA CI...</td>\n",
       "      <td>Apartamento T3</td>\n",
       "      <td>1.150.000 €</td>\n",
       "      <td>Novo  ·  200m²</td>\n",
       "      <td>Lisboa</td>\n",
       "      <td>Olivais</td>\n",
       "      <td>38.769610</td>\n",
       "      <td>-9.108405</td>\n",
       "    </tr>\n",
       "    <tr>\n",
       "      <th>9</th>\n",
       "      <td>1009</td>\n",
       "      <td>T3 no 5ºandar remodelado na Av. Columbano Bord...</td>\n",
       "      <td>T3 no 5ºandar remodelado na Av. Columbano Bord...</td>\n",
       "      <td>Apartamento T3</td>\n",
       "      <td>2.600 €</td>\n",
       "      <td>Renovado  ·  133m²</td>\n",
       "      <td>Lisboa</td>\n",
       "      <td>Campolide</td>\n",
       "      <td>38.738050</td>\n",
       "      <td>-9.161850</td>\n",
       "    </tr>\n",
       "  </tbody>\n",
       "</table>\n",
       "</div>"
      ],
      "text/plain": [
       "     id                                    property-header  \\\n",
       "0  1000                                                NaN   \n",
       "1  1001                  Apartamento T4 á venda em Arroios   \n",
       "2  1002                                                NaN   \n",
       "3  1003                                                NaN   \n",
       "4  1004                                                NaN   \n",
       "5  1005                                                NaN   \n",
       "6  1006                                                NaN   \n",
       "7  1007  APARTAMENTO T4 EXCELENTE COM VISTA RIO EM LISB...   \n",
       "8  1008  APARTAMENTO T3 COM LOGRADOURO E ESTACIONAMENTO...   \n",
       "9  1009  T3 no 5ºandar remodelado na Av. Columbano Bord...   \n",
       "\n",
       "                                property_description                typology  \\\n",
       "0  Apartamento T4 convertido em T3, em bom estado...          Apartamento T3   \n",
       "1  Excelente Apartamento T4, na zona de Arroios, ...  Apartamento T4 Triplex   \n",
       "2  Arrecadação dentro do Amoreiras Shopping Cente...                 Armazém   \n",
       "3  Apartamento de luxo situado em Telheiras, Parq...          Apartamento T4   \n",
       "4  Apartamento T3 remodelado no Alto do Restelo (...          Apartamento T3   \n",
       "5  Loja com 1.688,77 m2, em 3 pisos, com localiza...                    Loja   \n",
       "6  Este bonito apartamento esta inserido numa rea...          Apartamento T1   \n",
       "7  PROCURA APARTAMENTO T4 NA CIDADE DE LISBOA?EST...          Apartamento T4   \n",
       "8  PROCURA UMA CASA PERTO DO RIO, DO CENTRO DA CI...          Apartamento T3   \n",
       "9  T3 no 5ºandar remodelado na Av. Columbano Bord...          Apartamento T3   \n",
       "\n",
       "              price                area locality            region   latitude  \\\n",
       "0         489.500 €               115m²   Lisboa           Arroios  38.726588   \n",
       "1         330.000 €                74m²   Lisboa           Arroios  38.721836   \n",
       "2  39.000 € / 220 €                 NaN   Lisboa  Campo de Ourique   0.000000   \n",
       "3         865.000 €                 NaN   Lisboa            Lumiar   0.000000   \n",
       "4           2.000 €          Recuperado   Lisboa             Belém   0.000000   \n",
       "5       2.980.000 €             1 688m²   Lisboa           Areeiro  38.743644   \n",
       "6         430.000 €                81m²   Lisboa         Alcântara  38.706230   \n",
       "7           4.000 €               230m²   Lisboa  Campo de Ourique  38.723605   \n",
       "8       1.150.000 €      Novo  ·  200m²   Lisboa           Olivais  38.769610   \n",
       "9           2.600 €  Renovado  ·  133m²   Lisboa         Campolide  38.738050   \n",
       "\n",
       "   longitude  \n",
       "0  -9.142284  \n",
       "1  -9.138774  \n",
       "2   0.000000  \n",
       "3   0.000000  \n",
       "4   0.000000  \n",
       "5  -9.143469  \n",
       "6  -9.177530  \n",
       "7  -9.158138  \n",
       "8  -9.108405  \n",
       "9  -9.161850  "
      ]
     },
     "execution_count": 4,
     "metadata": {},
     "output_type": "execute_result"
    }
   ],
   "source": [
    "houses.head(10)"
   ]
  },
  {
   "cell_type": "code",
   "execution_count": 5,
   "metadata": {},
   "outputs": [
    {
     "name": "stdout",
     "output_type": "stream",
     "text": [
      "Total number of properties: 13259\n"
     ]
    }
   ],
   "source": [
    "#check initial number of properties\n",
    "print('Total number of properties: {}'.format(houses.shape[0]))"
   ]
  },
  {
   "cell_type": "markdown",
   "metadata": {},
   "source": [
    "<div class=\"alert alert-block alert-info\">\n",
    "\n",
    "#### Remove non-residential properties"
   ]
  },
  {
   "cell_type": "code",
   "execution_count": 6,
   "metadata": {},
   "outputs": [],
   "source": [
    "#keep only if it referes to residential properties\n",
    "\n",
    "condition1 = houses['typology'].str.contains('Apartamento')\n",
    "condition2 = houses['typology'].str.contains('Moradia')\n",
    "condition3 = houses['typology'].str.contains('Duplex')\n",
    "\n",
    "houses = houses[condition1 | condition2 | condition3].reset_index(drop=True).copy()"
   ]
  },
  {
   "cell_type": "code",
   "execution_count": 7,
   "metadata": {},
   "outputs": [
    {
     "name": "stdout",
     "output_type": "stream",
     "text": [
      "Total number of properties: 9884\n"
     ]
    }
   ],
   "source": [
    "#check number of properties after exluding non residential properties \n",
    "\n",
    "print('Total number of properties: {}'.format(houses.shape[0]))"
   ]
  },
  {
   "cell_type": "code",
   "execution_count": 8,
   "metadata": {},
   "outputs": [
    {
     "data": {
      "text/html": [
       "<div>\n",
       "<style scoped>\n",
       "    .dataframe tbody tr th:only-of-type {\n",
       "        vertical-align: middle;\n",
       "    }\n",
       "\n",
       "    .dataframe tbody tr th {\n",
       "        vertical-align: top;\n",
       "    }\n",
       "\n",
       "    .dataframe thead th {\n",
       "        text-align: right;\n",
       "    }\n",
       "</style>\n",
       "<table border=\"1\" class=\"dataframe\">\n",
       "  <thead>\n",
       "    <tr style=\"text-align: right;\">\n",
       "      <th></th>\n",
       "      <th>id</th>\n",
       "      <th>property-header</th>\n",
       "      <th>property_description</th>\n",
       "      <th>typology</th>\n",
       "      <th>price</th>\n",
       "      <th>area</th>\n",
       "      <th>locality</th>\n",
       "      <th>region</th>\n",
       "      <th>latitude</th>\n",
       "      <th>longitude</th>\n",
       "    </tr>\n",
       "  </thead>\n",
       "  <tbody>\n",
       "    <tr>\n",
       "      <th>0</th>\n",
       "      <td>1000</td>\n",
       "      <td>NaN</td>\n",
       "      <td>Apartamento T4 convertido em T3, em bom estado...</td>\n",
       "      <td>Apartamento T3</td>\n",
       "      <td>489.500 €</td>\n",
       "      <td>115m²</td>\n",
       "      <td>Lisboa</td>\n",
       "      <td>Arroios</td>\n",
       "      <td>38.726588</td>\n",
       "      <td>-9.142284</td>\n",
       "    </tr>\n",
       "    <tr>\n",
       "      <th>1</th>\n",
       "      <td>1001</td>\n",
       "      <td>Apartamento T4 á venda em Arroios</td>\n",
       "      <td>Excelente Apartamento T4, na zona de Arroios, ...</td>\n",
       "      <td>Apartamento T4 Triplex</td>\n",
       "      <td>330.000 €</td>\n",
       "      <td>74m²</td>\n",
       "      <td>Lisboa</td>\n",
       "      <td>Arroios</td>\n",
       "      <td>38.721836</td>\n",
       "      <td>-9.138774</td>\n",
       "    </tr>\n",
       "    <tr>\n",
       "      <th>2</th>\n",
       "      <td>1003</td>\n",
       "      <td>NaN</td>\n",
       "      <td>Apartamento de luxo situado em Telheiras, Parq...</td>\n",
       "      <td>Apartamento T4</td>\n",
       "      <td>865.000 €</td>\n",
       "      <td>NaN</td>\n",
       "      <td>Lisboa</td>\n",
       "      <td>Lumiar</td>\n",
       "      <td>0.000000</td>\n",
       "      <td>0.000000</td>\n",
       "    </tr>\n",
       "    <tr>\n",
       "      <th>3</th>\n",
       "      <td>1004</td>\n",
       "      <td>NaN</td>\n",
       "      <td>Apartamento T3 remodelado no Alto do Restelo (...</td>\n",
       "      <td>Apartamento T3</td>\n",
       "      <td>2.000 €</td>\n",
       "      <td>Recuperado</td>\n",
       "      <td>Lisboa</td>\n",
       "      <td>Belém</td>\n",
       "      <td>0.000000</td>\n",
       "      <td>0.000000</td>\n",
       "    </tr>\n",
       "    <tr>\n",
       "      <th>4</th>\n",
       "      <td>1006</td>\n",
       "      <td>NaN</td>\n",
       "      <td>Este bonito apartamento esta inserido numa rea...</td>\n",
       "      <td>Apartamento T1</td>\n",
       "      <td>430.000 €</td>\n",
       "      <td>81m²</td>\n",
       "      <td>Lisboa</td>\n",
       "      <td>Alcântara</td>\n",
       "      <td>38.706230</td>\n",
       "      <td>-9.177530</td>\n",
       "    </tr>\n",
       "  </tbody>\n",
       "</table>\n",
       "</div>"
      ],
      "text/plain": [
       "     id                    property-header  \\\n",
       "0  1000                                NaN   \n",
       "1  1001  Apartamento T4 á venda em Arroios   \n",
       "2  1003                                NaN   \n",
       "3  1004                                NaN   \n",
       "4  1006                                NaN   \n",
       "\n",
       "                                property_description                typology  \\\n",
       "0  Apartamento T4 convertido em T3, em bom estado...          Apartamento T3   \n",
       "1  Excelente Apartamento T4, na zona de Arroios, ...  Apartamento T4 Triplex   \n",
       "2  Apartamento de luxo situado em Telheiras, Parq...          Apartamento T4   \n",
       "3  Apartamento T3 remodelado no Alto do Restelo (...          Apartamento T3   \n",
       "4  Este bonito apartamento esta inserido numa rea...          Apartamento T1   \n",
       "\n",
       "       price        area locality     region   latitude  longitude  \n",
       "0  489.500 €       115m²   Lisboa    Arroios  38.726588  -9.142284  \n",
       "1  330.000 €        74m²   Lisboa    Arroios  38.721836  -9.138774  \n",
       "2  865.000 €         NaN   Lisboa     Lumiar   0.000000   0.000000  \n",
       "3    2.000 €  Recuperado   Lisboa      Belém   0.000000   0.000000  \n",
       "4  430.000 €        81m²   Lisboa  Alcântara  38.706230  -9.177530  "
      ]
     },
     "execution_count": 8,
     "metadata": {},
     "output_type": "execute_result"
    }
   ],
   "source": [
    "houses.head()"
   ]
  },
  {
   "cell_type": "code",
   "execution_count": 9,
   "metadata": {},
   "outputs": [
    {
     "name": "stdout",
     "output_type": "stream",
     "text": [
      "<class 'pandas.core.frame.DataFrame'>\n",
      "RangeIndex: 9884 entries, 0 to 9883\n",
      "Data columns (total 10 columns):\n",
      " #   Column                Non-Null Count  Dtype  \n",
      "---  ------                --------------  -----  \n",
      " 0   id                    9884 non-null   int64  \n",
      " 1   property-header       142 non-null    object \n",
      " 2   property_description  9806 non-null   object \n",
      " 3   typology              9884 non-null   object \n",
      " 4   price                 9722 non-null   object \n",
      " 5   area                  9880 non-null   object \n",
      " 6   locality              9884 non-null   object \n",
      " 7   region                9884 non-null   object \n",
      " 8   latitude              9884 non-null   float64\n",
      " 9   longitude             9884 non-null   float64\n",
      "dtypes: float64(2), int64(1), object(7)\n",
      "memory usage: 772.3+ KB\n"
     ]
    }
   ],
   "source": [
    "houses.info()"
   ]
  },
  {
   "cell_type": "markdown",
   "metadata": {},
   "source": [
    "<div class=\"alert alert-block alert-info\">\n",
    "\n",
    "#### Clean tipology feature"
   ]
  },
  {
   "cell_type": "code",
   "execution_count": 10,
   "metadata": {},
   "outputs": [],
   "source": [
    "# clean typology original column by keeping only string 'Tx' where x is number of bedrooms\n",
    "\n",
    "typology_total = houses['typology'].str.split()\n",
    "typology_clean = []\n",
    "\n",
    "for i in range (len(typology_total)):\n",
    "    typology_filtered = list(x for x in typology_total[i] if x.startswith('T'))\n",
    "    if typology_filtered == []:\n",
    "        typology_clean.append(nan)\n",
    "    else:\n",
    "        typology_clean.append(typology_filtered[0])"
   ]
  },
  {
   "cell_type": "code",
   "execution_count": 11,
   "metadata": {},
   "outputs": [],
   "source": [
    "# there are some cases where typology is 'Tx+y', so we will add up x and y to have a single value for number of bedrooms\n",
    "\n",
    "for i in range (len(typology_clean)):\n",
    "    if type(typology_clean[i])!=float:\n",
    "        if '+' in typology_clean[i]:\n",
    "            sumation = int(typology_clean[i].split('+')[0].split('T')[1]) + int(typology_clean[i].split('+')[1])\n",
    "            typology_clean[i] = 'T'+str(sumation)"
   ]
  },
  {
   "cell_type": "code",
   "execution_count": 12,
   "metadata": {},
   "outputs": [],
   "source": [
    "# replace typology original column with computed list\n",
    "houses['typology'] = typology_clean"
   ]
  },
  {
   "cell_type": "code",
   "execution_count": 13,
   "metadata": {},
   "outputs": [
    {
     "name": "stdout",
     "output_type": "stream",
     "text": [
      "Unfortunately, there are 178 for which no typology was found. We will attempt to fill these missing values later.\n"
     ]
    }
   ],
   "source": [
    "print('Unfortunately, there are {} for which no typology was found. We will attempt \\\n",
    "to fill these missing values later.'.format(sum(houses['typology'].isna())))"
   ]
  },
  {
   "cell_type": "markdown",
   "metadata": {},
   "source": [
    "<div class=\"alert alert-block alert-info\">\n",
    "\n",
    "#### Clean area feature"
   ]
  },
  {
   "cell_type": "code",
   "execution_count": 14,
   "metadata": {},
   "outputs": [],
   "source": [
    "area_total = houses['area'].str.split()\n",
    "area_clean = []\n",
    "\n",
    "for i in range (len(area_total)):\n",
    "    if type(area_total[i])!=float:\n",
    "        area_filtered = list(x for x in area_total[i] if 'm²' in x)\n",
    "        if area_filtered == []:\n",
    "            area_clean.append(nan)\n",
    "        else:\n",
    "            area_clean.append(int(area_filtered[0].replace('m²', '')))\n",
    "    else:\n",
    "        area_clean.append(nan)"
   ]
  },
  {
   "cell_type": "code",
   "execution_count": 15,
   "metadata": {},
   "outputs": [],
   "source": [
    "# replace area original column with computed list\n",
    "houses['area'] = area_clean"
   ]
  },
  {
   "cell_type": "code",
   "execution_count": 16,
   "metadata": {},
   "outputs": [
    {
     "name": "stdout",
     "output_type": "stream",
     "text": [
      "Unfortunately, there are 62 for which no area value was found. We will drop these observations.\n"
     ]
    }
   ],
   "source": [
    "print('Unfortunately, there are {} for which no area value was found. \\\n",
    "We will drop these observations.'.format(sum(houses['area'].isna())))"
   ]
  },
  {
   "cell_type": "code",
   "execution_count": 79,
   "metadata": {},
   "outputs": [],
   "source": [
    "houses = houses[houses['area'].notna()].reset_index(drop=True)"
   ]
  },
  {
   "cell_type": "markdown",
   "metadata": {},
   "source": [
    "<div class=\"alert alert-block alert-info\">\n",
    "\n",
    "#### Clean price feature"
   ]
  },
  {
   "cell_type": "code",
   "execution_count": 18,
   "metadata": {},
   "outputs": [],
   "source": [
    "price_total = houses['price'].str.split()\n",
    "price_clean = []\n",
    "\n",
    "for i in range (len(price_total)):\n",
    "    if type(price_total[i])!=float:\n",
    "        price_clean.append(int(price_total[i][0].replace('.', '')))\n",
    "    else:\n",
    "        price_clean.append(nan)"
   ]
  },
  {
   "cell_type": "code",
   "execution_count": 19,
   "metadata": {},
   "outputs": [],
   "source": [
    "price_total = houses['price'].str.split()"
   ]
  },
  {
   "cell_type": "code",
   "execution_count": 20,
   "metadata": {},
   "outputs": [],
   "source": [
    "# replace price original column with computed list\n",
    "houses['price'] = price_clean"
   ]
  },
  {
   "cell_type": "code",
   "execution_count": 21,
   "metadata": {},
   "outputs": [
    {
     "name": "stdout",
     "output_type": "stream",
     "text": [
      "Unfortunately, there are 158 for which no price value was found. We will drop these observations.\n"
     ]
    }
   ],
   "source": [
    "print('Unfortunately, there are {} for which no price value was found. \\\n",
    "We will drop these observations.'.format(sum(houses['price'].isna())))"
   ]
  },
  {
   "cell_type": "code",
   "execution_count": 22,
   "metadata": {},
   "outputs": [],
   "source": [
    "houses = houses[houses['price'].notna()].reset_index(drop=True)"
   ]
  },
  {
   "cell_type": "markdown",
   "metadata": {},
   "source": [
    "<div class=\"alert alert-block alert-info\">\n",
    "\n",
    "#### Clean latitude and longitude feature"
   ]
  },
  {
   "cell_type": "code",
   "execution_count": 42,
   "metadata": {},
   "outputs": [
    {
     "name": "stdout",
     "output_type": "stream",
     "text": [
      "Unfortunately, there are 5 for which no longitude or latitude values were found. We will drop these observations.\n"
     ]
    }
   ],
   "source": [
    "print('Unfortunately, there are {} for which no longitude or latitude values were found. \\\n",
    "We will drop these observations.'.format(len(houses[(houses['latitude'] == 0) | (houses['longitude'] == 0)])))"
   ]
  },
  {
   "cell_type": "code",
   "execution_count": 44,
   "metadata": {},
   "outputs": [],
   "source": [
    "houses = houses[(houses['latitude']!= 0) | (houses['longitude']!= 0)].reset_index(drop=True)"
   ]
  }
 ],
 "metadata": {
  "kernelspec": {
   "display_name": "Python 3",
   "language": "python",
   "name": "python3"
  },
  "language_info": {
   "codemirror_mode": {
    "name": "ipython",
    "version": 3
   },
   "file_extension": ".py",
   "mimetype": "text/x-python",
   "name": "python",
   "nbconvert_exporter": "python",
   "pygments_lexer": "ipython3",
   "version": "3.10.11"
  }
 },
 "nbformat": 4,
 "nbformat_minor": 2
}
